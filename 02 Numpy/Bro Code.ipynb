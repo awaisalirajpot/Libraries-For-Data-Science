{
 "cells": [
  {
   "cell_type": "markdown",
   "id": "e2e3623e-7e0c-44d0-aa22-1d8af625ab5e",
   "metadata": {},
   "source": [
    "[Learn Numpy in 1 hour!](https://youtu.be/VXU4LSAQDSc?si=YUhA8ToQyiHlsXgs)"
   ]
  },
  {
   "cell_type": "markdown",
   "id": "cb5bb19b-038d-429d-9cf6-8859451d1c99",
   "metadata": {},
   "source": [
    "### Numpy: Numerical Python<br>\n",
    "**Use in**\n",
    "1. Data Science\n",
    "2. Engineering\n",
    "3. Machine Learning and Ai\n",
    "\n",
    "**Why python**\n",
    "1. Offers many libraries\n",
    "2. Intergrates well with:\n",
    "   - APIs, databases, and web apps\n",
    "3. Python is slow\n",
    "    - So Numpy comes into existence its written in C\n",
    "4. list = [1, 2, 3] and array = np.array([1,2,3])\n"
   ]
  },
  {
   "cell_type": "code",
   "execution_count": 1,
   "id": "474657f4-d69d-4e2f-a6ce-8c21352378ca",
   "metadata": {},
   "outputs": [
    {
     "data": {
      "text/plain": [
       "[1, 3, 2, 1, 3, 2]"
      ]
     },
     "execution_count": 1,
     "metadata": {},
     "output_type": "execute_result"
    }
   ],
   "source": [
    "[1,3,2] * 2 # would repeat all the elements by twice"
   ]
  },
  {
   "cell_type": "code",
   "execution_count": 2,
   "id": "683c0410-751a-4c12-85fc-1217d40a22b4",
   "metadata": {},
   "outputs": [
    {
     "data": {
      "text/plain": [
       "array([2, 6, 8])"
      ]
     },
     "execution_count": 2,
     "metadata": {},
     "output_type": "execute_result"
    }
   ],
   "source": [
    "# vectorized operations\n",
    "import numpy as np\n",
    "np.array([1,3,4])*2"
   ]
  },
  {
   "cell_type": "code",
   "execution_count": 4,
   "id": "f81a297d-fc0f-49e0-a7c8-8c667184fdfa",
   "metadata": {},
   "outputs": [
    {
     "name": "stdout",
     "output_type": "stream",
     "text": [
      "2.1.3\n"
     ]
    }
   ],
   "source": [
    "print(np.__version__) #dunder function"
   ]
  },
  {
   "cell_type": "code",
   "execution_count": 5,
   "id": "ffd196e6-640f-4033-b4a5-80f9f5cfdfc1",
   "metadata": {},
   "outputs": [
    {
     "name": "stdout",
     "output_type": "stream",
     "text": [
      "[1, 2, 4, 5]\n"
     ]
    }
   ],
   "source": [
    "my_list = [1,2,4,5]\n",
    "print(my_list)"
   ]
  },
  {
   "cell_type": "code",
   "execution_count": 6,
   "id": "21688bf4-eae1-44f7-9db1-b6085a37d5e1",
   "metadata": {},
   "outputs": [
    {
     "data": {
      "text/plain": [
       "[1, 2, 4, 5, 1, 2, 4, 5]"
      ]
     },
     "execution_count": 6,
     "metadata": {},
     "output_type": "execute_result"
    }
   ],
   "source": [
    "my_list*2"
   ]
  },
  {
   "cell_type": "code",
   "execution_count": 7,
   "id": "ded0a2aa-ab98-4f7b-934d-16e5d91d10ea",
   "metadata": {},
   "outputs": [
    {
     "name": "stdout",
     "output_type": "stream",
     "text": [
      "[ 1 23 54  2 54]\n"
     ]
    }
   ],
   "source": [
    "array = np.array([1,23,54,2,54])\n",
    "print(array)"
   ]
  },
  {
   "cell_type": "code",
   "execution_count": 9,
   "id": "c56cf736-eac6-4d71-91e7-0626f6b467c7",
   "metadata": {},
   "outputs": [
    {
     "name": "stdout",
     "output_type": "stream",
     "text": [
      "<class 'numpy.ndarray'>\n"
     ]
    }
   ],
   "source": [
    "print(type(array)) #nd number of dimensional"
   ]
  },
  {
   "cell_type": "code",
   "execution_count": 10,
   "id": "48c51e82-4e8a-4e18-8197-e24bb320ccd6",
   "metadata": {},
   "outputs": [
    {
     "data": {
      "text/plain": [
       "array([  2,  46, 108,   4, 108])"
      ]
     },
     "execution_count": 10,
     "metadata": {},
     "output_type": "execute_result"
    }
   ],
   "source": [
    "array = array*2\n",
    "array"
   ]
  },
  {
   "cell_type": "markdown",
   "id": "9be4d2e4-af4c-45fa-bc70-180848a9e88e",
   "metadata": {},
   "source": [
    "### Multidimensional arrays\n",
    "0, dimensional like a point <br>\n",
    "1 means 1 line <br>\n",
    "2 means square <br> and so on"
   ]
  },
  {
   "cell_type": "code",
   "execution_count": 12,
   "id": "0e816e30-851b-43b4-988e-eb8a76280b8a",
   "metadata": {},
   "outputs": [
    {
     "data": {
      "text/plain": [
       "0"
      ]
     },
     "execution_count": 12,
     "metadata": {},
     "output_type": "execute_result"
    }
   ],
   "source": [
    "array = np.array('A') #zero dimension\n",
    "array.ndim"
   ]
  },
  {
   "cell_type": "code",
   "execution_count": 13,
   "id": "4773a3fd-870f-4753-881e-a6445f9dd353",
   "metadata": {},
   "outputs": [
    {
     "data": {
      "text/plain": [
       "1"
      ]
     },
     "execution_count": 13,
     "metadata": {},
     "output_type": "execute_result"
    }
   ],
   "source": [
    "array = np.array(['A', 'B', 'C', 'B', 'R']) # number of dimensions are 1\n",
    "array.ndim"
   ]
  },
  {
   "cell_type": "code",
   "execution_count": 15,
   "id": "c318548a-7858-44b5-b006-3beee252c674",
   "metadata": {},
   "outputs": [
    {
     "data": {
      "text/plain": [
       "2"
      ]
     },
     "execution_count": 15,
     "metadata": {},
     "output_type": "execute_result"
    }
   ],
   "source": [
    "#rows and colums 2 dimensional\n",
    "array = np.array([\n",
    "    ['A', 'B', 'C'],\n",
    "    ['D', 'E', 'F'],\n",
    "    ['G', 'H', 'I']\n",
    "])\n",
    "array.ndim"
   ]
  },
  {
   "cell_type": "code",
   "execution_count": 25,
   "id": "5b4fd9cd-45df-4778-b76a-8425dad5cd80",
   "metadata": {},
   "outputs": [
    {
     "data": {
      "text/plain": [
       "3"
      ]
     },
     "execution_count": 25,
     "metadata": {},
     "output_type": "execute_result"
    }
   ],
   "source": [
    "my_array = np.array([\n",
    "    [['A', 'B', 'C'], ['D', 'E', 'F'], ['G', 'H', 'I']],\n",
    "    [['J', 'k', 'L'], ['M', 'N', 'o'], ['p', 'q', 'x']],\n",
    "    [['r', 's', 'x'], ['X', 'y', 'z'], ['T', 'W', 'U']]\n",
    "])\n",
    "my_array.ndim"
   ]
  },
  {
   "cell_type": "code",
   "execution_count": 26,
   "id": "24350d4e-a3f8-4392-91e8-69aaefa6905a",
   "metadata": {},
   "outputs": [
    {
     "data": {
      "text/plain": [
       "(3, 3, 3)"
      ]
     },
     "execution_count": 26,
     "metadata": {},
     "output_type": "execute_result"
    }
   ],
   "source": [
    "my_array.shape \n",
    "#tuple\n",
    "# three layers\n",
    "# each layer has three rows\n",
    "# each row has 3 colums"
   ]
  },
  {
   "cell_type": "code",
   "execution_count": 22,
   "id": "abd4511d-b8b8-4ce5-80cb-f9738145b559",
   "metadata": {},
   "outputs": [
    {
     "data": {
      "text/plain": [
       "3"
      ]
     },
     "execution_count": 22,
     "metadata": {},
     "output_type": "execute_result"
    }
   ],
   "source": [
    "my_array1 = np.array([\n",
    "    [['A', 'B', 'C'], ['D', 'E', 'F'], ['G', 'H', 'I']],\n",
    "    [['J', 'k', 'L'], ['M', 'N', 'o'], ['p', 'q', 'x']],\n",
    "])\n",
    "my_array1.ndim\n",
    "# its still three dimension"
   ]
  },
  {
   "cell_type": "code",
   "execution_count": 23,
   "id": "564add28-e65a-4dcd-9403-52f7f48db4af",
   "metadata": {},
   "outputs": [
    {
     "data": {
      "text/plain": [
       "(2, 3, 3)"
      ]
     },
     "execution_count": 23,
     "metadata": {},
     "output_type": "execute_result"
    }
   ],
   "source": [
    "my_array1.shape\n",
    "# two layers\n",
    "# 3 three rows\n",
    "# 3 columns"
   ]
  },
  {
   "cell_type": "code",
   "execution_count": 27,
   "id": "806c2ed3-554c-455b-89a6-5c235cce90c5",
   "metadata": {},
   "outputs": [
    {
     "name": "stdout",
     "output_type": "stream",
     "text": [
      "[[['A' 'B' 'C']\n",
      "  ['D' 'E' 'F']\n",
      "  ['G' 'H' 'I']]\n",
      "\n",
      " [['J' 'k' 'L']\n",
      "  ['M' 'N' 'o']\n",
      "  ['p' 'q' 'x']]\n",
      "\n",
      " [['r' 's' 'x']\n",
      "  ['X' 'y' 'z']\n",
      "  ['T' 'W' 'U']]]\n"
     ]
    }
   ],
   "source": [
    "print(my_array)"
   ]
  },
  {
   "cell_type": "code",
   "execution_count": 32,
   "id": "a2f6ecfa-260b-4526-adca-d5d985c0d2ed",
   "metadata": {},
   "outputs": [
    {
     "name": "stdout",
     "output_type": "stream",
     "text": [
      "A\n"
     ]
    }
   ],
   "source": [
    "print(my_array[0][0][0]) #chain indexing\n",
    "# first layer index zero\n",
    "# first row index 0\n",
    "# first column 0"
   ]
  },
  {
   "cell_type": "code",
   "execution_count": 33,
   "id": "425e631d-b3f2-4e28-8546-e67af0654f36",
   "metadata": {},
   "outputs": [
    {
     "name": "stdout",
     "output_type": "stream",
     "text": [
      "q\n"
     ]
    }
   ],
   "source": [
    "print(my_array[1][2][1]) #q\n",
    "# second layer\n",
    "# third row\n",
    "# second columns"
   ]
  },
  {
   "cell_type": "code",
   "execution_count": 34,
   "id": "d714e9e7-e801-45f6-974d-a1b0092afe12",
   "metadata": {},
   "outputs": [
    {
     "name": "stdout",
     "output_type": "stream",
     "text": [
      "[[[ 1  2  3]\n",
      "  [ 4  5  6]\n",
      "  [ 7  8  9]]\n",
      "\n",
      " [[10 11 12]\n",
      "  [13 14 15]\n",
      "  [16 17 18]]\n",
      "\n",
      " [[19 20 21]\n",
      "  [22 23 24]\n",
      "  [25 26 27]]]\n"
     ]
    }
   ],
   "source": [
    "A1 = np.array([\n",
    "    [\n",
    "        [1, 2, 3],\n",
    "        [4, 5, 6],\n",
    "        [7, 8, 9]\n",
    "    ],\n",
    "    [\n",
    "        [10, 11, 12],\n",
    "        [13, 14, 15],\n",
    "        [16, 17, 18]\n",
    "    ],\n",
    "    [\n",
    "        [19, 20, 21],\n",
    "        [22, 23, 24],\n",
    "        [25, 26, 27]\n",
    "    ]\n",
    "])\n",
    "print(A1)"
   ]
  },
  {
   "cell_type": "code",
   "execution_count": 39,
   "id": "0a51c5e4-0707-4336-b458-de31f54d5322",
   "metadata": {},
   "outputs": [
    {
     "name": "stdout",
     "output_type": "stream",
     "text": [
      "24\n"
     ]
    }
   ],
   "source": [
    "print(A1[2][1][2]) #chain indexing"
   ]
  },
  {
   "cell_type": "code",
   "execution_count": 38,
   "id": "838dcc55-8046-4b4c-84a9-e9bdf0bd765e",
   "metadata": {},
   "outputs": [
    {
     "name": "stdout",
     "output_type": "stream",
     "text": [
      "24\n"
     ]
    }
   ],
   "source": [
    "print(A1[2, 1, 2]) #multidimensional indexing faster"
   ]
  },
  {
   "cell_type": "code",
   "execution_count": 37,
   "id": "3a8da577-c293-47ee-9662-5bedabdd4449",
   "metadata": {},
   "outputs": [
    {
     "name": "stdout",
     "output_type": "stream",
     "text": [
      "14\n"
     ]
    }
   ],
   "source": [
    "print(A1[1, 1, 1]) #14"
   ]
  },
  {
   "cell_type": "code",
   "execution_count": 40,
   "id": "90c1185e-42a6-47e5-aea2-87448207df85",
   "metadata": {},
   "outputs": [
    {
     "name": "stdout",
     "output_type": "stream",
     "text": [
      "[[['A' 'B' 'C']\n",
      "  ['D' 'E' 'F']\n",
      "  ['G' 'H' 'I']]\n",
      "\n",
      " [['J' 'k' 'L']\n",
      "  ['M' 'N' 'o']\n",
      "  ['p' 'q' 'x']]\n",
      "\n",
      " [['r' 's' 'x']\n",
      "  ['X' 'y' 'z']\n",
      "  ['T' 'W' 'U']]]\n"
     ]
    }
   ],
   "source": [
    "print(my_array)"
   ]
  },
  {
   "cell_type": "code",
   "execution_count": 43,
   "id": "68370461-edab-44b8-a90b-2995ee236bc4",
   "metadata": {},
   "outputs": [
    {
     "name": "stdout",
     "output_type": "stream",
     "text": [
      "BGxXI\n"
     ]
    }
   ],
   "source": [
    "#concatination\n",
    "word = my_array[0, 0, 1] + my_array[0, 2, 0] + my_array[1, 2, 2] + my_array[2, 1, 0] + my_array[0, 2, 2]\n",
    "#BGxXI\n",
    "print(word)"
   ]
  },
  {
   "cell_type": "markdown",
   "id": "690615f8-af66-44a6-8d17-8e64b0c325ec",
   "metadata": {},
   "source": [
    "### Slicing"
   ]
  },
  {
   "cell_type": "code",
   "execution_count": 44,
   "id": "e6770fb7-7fac-43a6-aad5-4669ab9c203c",
   "metadata": {},
   "outputs": [
    {
     "data": {
      "text/plain": [
       "(4, 4)"
      ]
     },
     "execution_count": 44,
     "metadata": {},
     "output_type": "execute_result"
    }
   ],
   "source": [
    "# Lets make a two d array\n",
    "two_d = np.array([\n",
    "    [1,2,3,4],\n",
    "    [5,6,7,8],\n",
    "    [9,10,11,12],\n",
    "    [13,14,15,16]\n",
    "])\n",
    "two_d.shape"
   ]
  },
  {
   "cell_type": "code",
   "execution_count": 49,
   "id": "e6c0abb7-1589-4e91-b5ae-fd2357b1a3bd",
   "metadata": {},
   "outputs": [
    {
     "data": {
      "text/plain": [
       "(2, 5, 4, 4)"
      ]
     },
     "execution_count": 49,
     "metadata": {},
     "output_type": "execute_result"
    }
   ],
   "source": [
    "two_dd = np.array([\n",
    "    [[\n",
    "    [1,2,3,4],\n",
    "    [5,6,7,8],\n",
    "    [9,10,11,12],\n",
    "    [13,14,15,16]\n",
    "    ],\n",
    "    [\n",
    "    [1,2,3,4],\n",
    "    [5,6,7,8],\n",
    "    [9,10,11,12],\n",
    "    [13,14,15,16]\n",
    "    ],\n",
    "    [\n",
    "    [1,2,3,4],\n",
    "    [5,6,7,8],\n",
    "    [9,10,11,12],\n",
    "    [13,14,15,16]\n",
    "    ],\n",
    "    [\n",
    "    [1,2,3,4],\n",
    "    [5,6,7,8],\n",
    "    [9,10,11,12],\n",
    "    [13,14,15,16]\n",
    "    ],\n",
    "    [\n",
    "    [1,2,3,4],\n",
    "    [5,6,7,8],\n",
    "    [9,10,11,12],\n",
    "    [13,14,15,16]\n",
    "    ]],\n",
    "    [[\n",
    "    [1,2,3,4],\n",
    "    [5,6,7,8],\n",
    "    [9,10,11,12],\n",
    "    [13,14,15,16]\n",
    "    ],\n",
    "    [\n",
    "    [1,2,3,4],\n",
    "    [5,6,7,8],\n",
    "    [9,10,11,12],\n",
    "    [13,14,15,16]\n",
    "    ],\n",
    "    [\n",
    "    [1,2,3,4],\n",
    "    [5,6,7,8],\n",
    "    [9,10,11,12],\n",
    "    [13,14,15,16]\n",
    "    ],\n",
    "    [\n",
    "    [1,2,3,4],\n",
    "    [5,6,7,8],\n",
    "    [9,10,11,12],\n",
    "    [13,14,15,16]\n",
    "    ],\n",
    "    [\n",
    "    [1,2,3,4],\n",
    "    [5,6,7,8],\n",
    "    [9,10,11,12],\n",
    "    [13,14,15,16]\n",
    "    ]]\n",
    "])\n",
    "two_dd.shape"
   ]
  },
  {
   "cell_type": "code",
   "execution_count": 50,
   "id": "c5c4c69f-5d6a-4a4a-9eb1-4eeb23837814",
   "metadata": {},
   "outputs": [
    {
     "data": {
      "text/plain": [
       "4"
      ]
     },
     "execution_count": 50,
     "metadata": {},
     "output_type": "execute_result"
    }
   ],
   "source": [
    "two_dd.ndim"
   ]
  },
  {
   "cell_type": "code",
   "execution_count": 52,
   "id": "23d5374f-0112-443b-999e-a771c48c20ba",
   "metadata": {},
   "outputs": [
    {
     "name": "stdout",
     "output_type": "stream",
     "text": [
      "[[ 1  2  3  4]\n",
      " [ 5  6  7  8]\n",
      " [ 9 10 11 12]\n",
      " [13 14 15 16]]\n",
      "(4, 4)\n"
     ]
    }
   ],
   "source": [
    "print(two_d)\n",
    "print(two_d.shape)"
   ]
  },
  {
   "cell_type": "code",
   "execution_count": 58,
   "id": "8262ba53-b477-4876-bcbe-8a722f407995",
   "metadata": {},
   "outputs": [
    {
     "name": "stdout",
     "output_type": "stream",
     "text": [
      "[[ 5  6  7  8]\n",
      " [ 9 10 11 12]\n",
      " [13 14 15 16]]\n"
     ]
    }
   ],
   "source": [
    "# array[start:end:step]\n",
    "print(two_d[1:4])"
   ]
  },
  {
   "cell_type": "code",
   "execution_count": 56,
   "id": "74278fff-f2f8-494c-92da-c1685d7f7289",
   "metadata": {},
   "outputs": [
    {
     "name": "stdout",
     "output_type": "stream",
     "text": [
      "[13 14 15 16]\n"
     ]
    }
   ],
   "source": [
    "print(two_d[-1])"
   ]
  },
  {
   "cell_type": "code",
   "execution_count": 62,
   "id": "52386fcb-89e0-4c76-ab7c-92b38dbf973f",
   "metadata": {},
   "outputs": [
    {
     "name": "stdout",
     "output_type": "stream",
     "text": [
      "[[ 1  2  3  4]\n",
      " [ 9 10 11 12]]\n"
     ]
    }
   ],
   "source": [
    "# ending index in is exclusive\n",
    "print(two_d[0:4:2])"
   ]
  },
  {
   "cell_type": "code",
   "execution_count": 63,
   "id": "df51203c-feaf-4b52-b548-140371bff13c",
   "metadata": {},
   "outputs": [
    {
     "name": "stdout",
     "output_type": "stream",
     "text": [
      "[[ 1  2  3  4]\n",
      " [ 9 10 11 12]]\n"
     ]
    }
   ],
   "source": [
    "print(two_d[::2])"
   ]
  },
  {
   "cell_type": "code",
   "execution_count": 64,
   "id": "02806d8c-9ee8-4692-8e55-733fb2a9642a",
   "metadata": {},
   "outputs": [
    {
     "name": "stdout",
     "output_type": "stream",
     "text": [
      "[[13 14 15 16]\n",
      " [ 9 10 11 12]\n",
      " [ 5  6  7  8]\n",
      " [ 1  2  3  4]]\n"
     ]
    }
   ],
   "source": [
    "print(two_d[::-1])"
   ]
  },
  {
   "cell_type": "code",
   "execution_count": 66,
   "id": "aa231a44-478e-4a56-b03a-ccd48ca21ce8",
   "metadata": {},
   "outputs": [
    {
     "name": "stdout",
     "output_type": "stream",
     "text": [
      "[ 1  5  9 13]\n"
     ]
    }
   ],
   "source": [
    "#Now lets see for columns\n",
    "print(two_d[:, 0]) #all rows and first element"
   ]
  },
  {
   "cell_type": "code",
   "execution_count": 67,
   "id": "72d70bce-bee3-4e47-9fe0-1c32a29b59b3",
   "metadata": {},
   "outputs": [
    {
     "name": "stdout",
     "output_type": "stream",
     "text": [
      "[ 2  6 10 14]\n"
     ]
    }
   ],
   "source": [
    "print(two_d[:, 1])"
   ]
  },
  {
   "cell_type": "code",
   "execution_count": 68,
   "id": "2bcad400-d314-4d1b-8bd1-dc48302889cc",
   "metadata": {},
   "outputs": [
    {
     "name": "stdout",
     "output_type": "stream",
     "text": [
      "[1 5]\n"
     ]
    }
   ],
   "source": [
    "print(two_d[0:2, 0])"
   ]
  },
  {
   "cell_type": "code",
   "execution_count": 69,
   "id": "71e7fd69-64e3-4513-9505-77280929727a",
   "metadata": {},
   "outputs": [
    {
     "name": "stdout",
     "output_type": "stream",
     "text": [
      "[ 4  8 12 16]\n"
     ]
    }
   ],
   "source": [
    "print(two_d[:, -1]) #last column"
   ]
  },
  {
   "cell_type": "code",
   "execution_count": 70,
   "id": "52eb14d7-1dbf-4c38-b189-d59de2b9e657",
   "metadata": {},
   "outputs": [
    {
     "name": "stdout",
     "output_type": "stream",
     "text": [
      "[[ 1  2  3  4]\n",
      " [ 5  6  7  8]\n",
      " [ 9 10 11 12]\n",
      " [13 14 15 16]]\n"
     ]
    }
   ],
   "source": [
    "print(two_d)"
   ]
  },
  {
   "cell_type": "code",
   "execution_count": 72,
   "id": "05775d85-280b-45f0-84ff-f248f1504d8e",
   "metadata": {},
   "outputs": [
    {
     "name": "stdout",
     "output_type": "stream",
     "text": [
      "[[ 1  2  3]\n",
      " [ 5  6  7]\n",
      " [ 9 10 11]\n",
      " [13 14 15]]\n"
     ]
    }
   ],
   "source": [
    "# I need first three columns in all the row\n",
    "print(two_d[:, 0:3])"
   ]
  },
  {
   "cell_type": "code",
   "execution_count": 74,
   "id": "a3a6e324-1a23-4c38-9e6c-182d575b9ab5",
   "metadata": {},
   "outputs": [
    {
     "name": "stdout",
     "output_type": "stream",
     "text": [
      "[[1 2]\n",
      " [5 6]]\n"
     ]
    }
   ],
   "source": [
    "# I need firt two columns in first two rows 2x2\n",
    "print(two_d[:2, :2])"
   ]
  },
  {
   "cell_type": "code",
   "execution_count": 75,
   "id": "25940464-fa10-4383-b60d-1a220c4f7b09",
   "metadata": {},
   "outputs": [
    {
     "name": "stdout",
     "output_type": "stream",
     "text": [
      "[[11 12]\n",
      " [15 16]]\n"
     ]
    }
   ],
   "source": [
    "#similarly for last\n",
    "print(two_d[2:, 2:])"
   ]
  },
  {
   "cell_type": "code",
   "execution_count": 76,
   "id": "9dd873ee-3d83-4cc6-9d49-2546a494242b",
   "metadata": {},
   "outputs": [
    {
     "name": "stdout",
     "output_type": "stream",
     "text": [
      "[[ 1  3]\n",
      " [ 5  7]\n",
      " [ 9 11]\n",
      " [13 15]]\n"
     ]
    }
   ],
   "source": [
    "#Need every second column\n",
    "print(two_d[:, ::2]) #0 and 1"
   ]
  },
  {
   "cell_type": "code",
   "execution_count": 77,
   "id": "743ce6e1-8b0f-477c-97f0-7a18ad02a61e",
   "metadata": {},
   "outputs": [
    {
     "name": "stdout",
     "output_type": "stream",
     "text": [
      "[[ 4  3  2  1]\n",
      " [ 8  7  6  5]\n",
      " [12 11 10  9]\n",
      " [16 15 14 13]]\n"
     ]
    }
   ],
   "source": [
    "print(two_d[:, ::-1])"
   ]
  },
  {
   "cell_type": "code",
   "execution_count": 78,
   "id": "585ebf5b-fa9a-4867-b7c1-093d7bedc13c",
   "metadata": {},
   "outputs": [
    {
     "name": "stdout",
     "output_type": "stream",
     "text": [
      "[[3 4]\n",
      " [7 8]]\n"
     ]
    }
   ],
   "source": [
    "print(two_d[:2, 2:])"
   ]
  },
  {
   "cell_type": "markdown",
   "id": "9f54eea1-64f1-4590-9d06-15398047d231",
   "metadata": {},
   "source": [
    "### Arithmatic"
   ]
  },
  {
   "cell_type": "code",
   "execution_count": 81,
   "id": "24b2d11f-b5d1-4194-92fa-f0a13c7d26f5",
   "metadata": {},
   "outputs": [
    {
     "name": "stdout",
     "output_type": "stream",
     "text": [
      "Add:  [2 3 4]\n",
      "Minus:  [-1  0  1]\n",
      "Divide:  [0.25 0.5  0.75]\n",
      "Multiply:  [2 4 6]\n",
      "Power:  [  1  32 243]\n"
     ]
    }
   ],
   "source": [
    "# Scalar arithmatic\n",
    "array = np.array([1, 2, 3])\n",
    "print('Add: ', array+1)\n",
    "print('Minus: ', array-2)\n",
    "print('Divide: ', array/4)\n",
    "print(\"Multiply: \", array*2)\n",
    "print(\"Power: \", array**5)"
   ]
  },
  {
   "cell_type": "code",
   "execution_count": 82,
   "id": "bd19c626-0abe-45fd-bdb9-91ee120e1067",
   "metadata": {},
   "outputs": [
    {
     "name": "stdout",
     "output_type": "stream",
     "text": [
      "[1.         1.41421356 1.73205081]\n"
     ]
    }
   ],
   "source": [
    "# Vectorized math functions\n",
    "# A vector is a single dimension\n",
    "print(np.sqrt(array))"
   ]
  },
  {
   "cell_type": "code",
   "execution_count": 84,
   "id": "36883fec-cce8-4f34-98f9-067c0c4befd0",
   "metadata": {},
   "outputs": [
    {
     "name": "stdout",
     "output_type": "stream",
     "text": [
      "[ 1.  3.  2.  3. 32.]\n",
      "[ 1.  2.  2.  2. 32.]\n",
      "[ 2.  3.  3.  3. 33.]\n"
     ]
    }
   ],
   "source": [
    "array = np.array([1.02, 2.99, 2.5, 2.6, 32.49])\n",
    "# Lets round all the values\n",
    "print(np.round(array))\n",
    "print(np.floor(array)) #round down\n",
    "print(np.ceil(array)) # roudn up"
   ]
  },
  {
   "cell_type": "code",
   "execution_count": 85,
   "id": "e2067c94-df5b-456c-81e3-1a224983066d",
   "metadata": {},
   "outputs": [
    {
     "name": "stdout",
     "output_type": "stream",
     "text": [
      "3.141592653589793\n"
     ]
    }
   ],
   "source": [
    "print(np.pi)"
   ]
  },
  {
   "cell_type": "code",
   "execution_count": 87,
   "id": "231e9c7b-b6da-4ccf-ad52-901255f7e455",
   "metadata": {},
   "outputs": [
    {
     "name": "stdout",
     "output_type": "stream",
     "text": [
      "[ 3.14159265 12.56637061 28.27433388]\n"
     ]
    }
   ],
   "source": [
    "# Excersie\n",
    "radii = np.array([1, 2, 3])\n",
    "print(np.pi * radii**2)"
   ]
  },
  {
   "cell_type": "code",
   "execution_count": 90,
   "id": "29b92cd2-f7ef-47e9-a125-d1aa47003f8e",
   "metadata": {},
   "outputs": [
    {
     "name": "stdout",
     "output_type": "stream",
     "text": [
      "[3 5 9]\n",
      "[-1 -1 -1]\n",
      "[0.5        0.66666667 0.8       ]\n",
      "[ 2  6 20]\n",
      "[   1    8 1024]\n",
      "[0 0 0]\n",
      "[1 2 4]\n"
     ]
    }
   ],
   "source": [
    "#Element-wise arithmetic\n",
    "array1 = np.array([1,2,4])\n",
    "array2 = np.array([2, 3, 5])\n",
    "print(array1 + array2)\n",
    "print(array1 - array2)\n",
    "print(array1 / array2)\n",
    "print(array1 * array2)\n",
    "print(array1 ** array2)\n",
    "print(array1 // array2)\n",
    "print(array1 % array2)\n",
    "\n"
   ]
  },
  {
   "cell_type": "code",
   "execution_count": 91,
   "id": "e32333f2-fe22-407a-ab34-98347e6a0a97",
   "metadata": {},
   "outputs": [
    {
     "name": "stdout",
     "output_type": "stream",
     "text": [
      "[False False  True False False False]\n"
     ]
    }
   ],
   "source": [
    "# Comparison Operators\n",
    "scores = np.array([91, 55, 100, 73, 82, 64])\n",
    "print(scores == 100)"
   ]
  },
  {
   "cell_type": "code",
   "execution_count": 92,
   "id": "d1d2c85e-1459-42c0-b982-2b86c11072fe",
   "metadata": {},
   "outputs": [
    {
     "name": "stdout",
     "output_type": "stream",
     "text": [
      "[ True False  True  True  True  True]\n"
     ]
    }
   ],
   "source": [
    "print(scores >= 60)"
   ]
  },
  {
   "cell_type": "code",
   "execution_count": 93,
   "id": "4f9eb915-1924-4fad-84a2-ea9f5c3deffd",
   "metadata": {},
   "outputs": [],
   "source": [
    "scores[scores < 60] = 0 failed"
   ]
  },
  {
   "cell_type": "code",
   "execution_count": 94,
   "id": "8053838e-3b73-4135-a9b5-ebe63f117f62",
   "metadata": {},
   "outputs": [
    {
     "data": {
      "text/plain": [
       "array([ 91,   0, 100,  73,  82,  64])"
      ]
     },
     "execution_count": 94,
     "metadata": {},
     "output_type": "execute_result"
    }
   ],
   "source": [
    "scores"
   ]
  },
  {
   "cell_type": "markdown",
   "id": "4c20b486-2cc4-40f1-9662-30db21aa4164",
   "metadata": {},
   "source": [
    "### BroadCasting\n",
    "1. Broadcasting allows Numpy to perform operations on arrays with different shapes by virtually expanding dimensions so they the larger array's shape.\n",
    "2. from right to left they either match or one of them is 1"
   ]
  },
  {
   "cell_type": "code",
   "execution_count": 98,
   "id": "a41433e5-8e03-4ceb-9a87-a8ac8a352379",
   "metadata": {},
   "outputs": [
    {
     "name": "stdout",
     "output_type": "stream",
     "text": [
      "[[1 3 4 5]]\n",
      "(1, 4)\n",
      "2\n",
      "---------\n",
      "[[1]\n",
      " [2]\n",
      " [3]\n",
      " [4]]\n",
      "(4, 1)\n",
      "2\n"
     ]
    }
   ],
   "source": [
    "array1 = np.array ([[1,3,4,5]])\n",
    "array2 = np.array([[1],[2], [3], [4]])\n",
    "print(array1)\n",
    "print(array1.shape)\n",
    "print(array1.ndim)\n",
    "print(\"---------\")\n",
    "print(array2)\n",
    "print(array2.shape)\n",
    "print(array2.ndim)"
   ]
  },
  {
   "cell_type": "code",
   "execution_count": 100,
   "id": "728a9373-def3-433f-a538-6bd0cb3d417b",
   "metadata": {},
   "outputs": [
    {
     "name": "stdout",
     "output_type": "stream",
     "text": [
      "(1, 4)\n",
      "(4, 1)\n"
     ]
    },
    {
     "data": {
      "text/plain": [
       "array([[ 1,  3,  4,  5],\n",
       "       [ 2,  6,  8, 10],\n",
       "       [ 3,  9, 12, 15],\n",
       "       [ 4, 12, 16, 20]])"
      ]
     },
     "execution_count": 100,
     "metadata": {},
     "output_type": "execute_result"
    }
   ],
   "source": [
    "print(array1.shape)\n",
    "print(array2.shape)\n",
    "#start matching the dimensions from right to left\n",
    "array1 * array2"
   ]
  },
  {
   "cell_type": "code",
   "execution_count": 102,
   "id": "3ae38485-f8ef-42f1-ae8f-4b349000c6e0",
   "metadata": {},
   "outputs": [
    {
     "name": "stdout",
     "output_type": "stream",
     "text": [
      "(2, 4)\n",
      "(4, 1)\n"
     ]
    },
    {
     "ename": "ValueError",
     "evalue": "operands could not be broadcast together with shapes (2,4) (4,1) ",
     "output_type": "error",
     "traceback": [
      "\u001b[1;31m---------------------------------------------------------------------------\u001b[0m",
      "\u001b[1;31mValueError\u001b[0m                                Traceback (most recent call last)",
      "Cell \u001b[1;32mIn[102], line 7\u001b[0m\n\u001b[0;32m      5\u001b[0m \u001b[38;5;28mprint\u001b[39m(array1\u001b[38;5;241m.\u001b[39mshape)\n\u001b[0;32m      6\u001b[0m \u001b[38;5;28mprint\u001b[39m(array2\u001b[38;5;241m.\u001b[39mshape)\n\u001b[1;32m----> 7\u001b[0m array1\u001b[38;5;241m*\u001b[39marray2\n",
      "\u001b[1;31mValueError\u001b[0m: operands could not be broadcast together with shapes (2,4) (4,1) "
     ]
    }
   ],
   "source": [
    "# now lets change the dimension\n",
    "array1 = np.array ([[1,3,4,5],\n",
    "                   [1,3,53,2]])\n",
    "array2 = np.array([[1],[2], [3], [4]])\n",
    "print(array1.shape)\n",
    "print(array2.shape)\n",
    "array1*array2"
   ]
  },
  {
   "cell_type": "code",
   "execution_count": 103,
   "id": "d4769c2a-32f2-4a1d-b5a6-fa58a3a83624",
   "metadata": {},
   "outputs": [
    {
     "name": "stdout",
     "output_type": "stream",
     "text": [
      "(4, 4)\n",
      "(4, 1)\n"
     ]
    },
    {
     "data": {
      "text/plain": [
       "array([[  1,   3,   4,   5],\n",
       "       [  2,   6, 106,   4],\n",
       "       [  3,   9, 159,   6],\n",
       "       [  4,  12, 212,   8]])"
      ]
     },
     "execution_count": 103,
     "metadata": {},
     "output_type": "execute_result"
    }
   ],
   "source": [
    "array1 = np.array ([[1,3,4,5],\n",
    "                   [1,3,53,2],\n",
    "                   [1,3,53,2],\n",
    "                    [1,3,53,2]\n",
    "                   ])\n",
    "array2 = np.array([[1],[2], [3], [4]])\n",
    "print(array1.shape)\n",
    "print(array2.shape)\n",
    "array1*array2"
   ]
  },
  {
   "cell_type": "code",
   "execution_count": 104,
   "id": "76114cbf-86c2-4ff5-92e4-fa21abb03a02",
   "metadata": {},
   "outputs": [
    {
     "name": "stdout",
     "output_type": "stream",
     "text": [
      "(4, 4)\n",
      "(4, 2)\n"
     ]
    },
    {
     "ename": "ValueError",
     "evalue": "operands could not be broadcast together with shapes (4,4) (4,2) ",
     "output_type": "error",
     "traceback": [
      "\u001b[1;31m---------------------------------------------------------------------------\u001b[0m",
      "\u001b[1;31mValueError\u001b[0m                                Traceback (most recent call last)",
      "Cell \u001b[1;32mIn[104], line 9\u001b[0m\n\u001b[0;32m      7\u001b[0m \u001b[38;5;28mprint\u001b[39m(array1\u001b[38;5;241m.\u001b[39mshape)\n\u001b[0;32m      8\u001b[0m \u001b[38;5;28mprint\u001b[39m(array2\u001b[38;5;241m.\u001b[39mshape)\n\u001b[1;32m----> 9\u001b[0m array1\u001b[38;5;241m*\u001b[39marray2\n",
      "\u001b[1;31mValueError\u001b[0m: operands could not be broadcast together with shapes (4,4) (4,2) "
     ]
    }
   ],
   "source": [
    "array1 = np.array ([[1,3,4,5],\n",
    "                   [1,3,53,2],\n",
    "                   [1,3,53,2],\n",
    "                    [1,3,53,2]\n",
    "                   ])\n",
    "array2 = np.array([[1,1],[2,3], [3,5], [4,3]])\n",
    "print(array1.shape)\n",
    "print(array2.shape)\n",
    "array1*array2"
   ]
  },
  {
   "cell_type": "code",
   "execution_count": 110,
   "id": "e6b7fbdc-2b6e-4984-a49f-54661a32aaa0",
   "metadata": {},
   "outputs": [
    {
     "name": "stdout",
     "output_type": "stream",
     "text": [
      "(1, 10)\n",
      "2\n",
      "(10, 1)\n",
      "2\n",
      "[[  1   2   4   3   5   6   7   8   9  10]\n",
      " [  2   4   8   6  10  12  14  16  18  20]\n",
      " [  3   6  12   9  15  18  21  24  27  30]\n",
      " [  4   8  16  12  20  24  28  32  36  40]\n",
      " [  5  10  20  15  25  30  35  40  45  50]\n",
      " [  6  12  24  18  30  36  42  48  54  60]\n",
      " [  7  14  28  21  35  42  49  56  63  70]\n",
      " [  8  16  32  24  40  48  56  64  72  80]\n",
      " [  9  18  36  27  45  54  63  72  81  90]\n",
      " [ 10  20  40  30  50  60  70  80  90 100]]\n",
      "[[ 0  1  3  2  4  5  6  7  8  9]\n",
      " [-1  0  2  1  3  4  5  6  7  8]\n",
      " [-2 -1  1  0  2  3  4  5  6  7]\n",
      " [-3 -2  0 -1  1  2  3  4  5  6]\n",
      " [-4 -3 -1 -2  0  1  2  3  4  5]\n",
      " [-5 -4 -2 -3 -1  0  1  2  3  4]\n",
      " [-6 -5 -3 -4 -2 -1  0  1  2  3]\n",
      " [-7 -6 -4 -5 -3 -2 -1  0  1  2]\n",
      " [-8 -7 -5 -6 -4 -3 -2 -1  0  1]\n",
      " [-9 -8 -6 -7 -5 -4 -3 -2 -1  0]]\n"
     ]
    }
   ],
   "source": [
    "array1 = np.array([[1,2,4,3,5,6,7,8,9,10]])\n",
    "print(array1.shape)\n",
    "print(array1.ndim)\n",
    "array2 = np.array([[1], [2], [3], [4], [5], [6], [7], [8], [9], [10]])\n",
    "print(array2.shape)\n",
    "print(array2.ndim)\n",
    "print(array1*array2)\n",
    "print(array1-array2)"
   ]
  },
  {
   "cell_type": "markdown",
   "id": "8d99cf9c-8168-411b-ba0c-01374107f1fe",
   "metadata": {},
   "source": [
    "### Aggregate Functions\n",
    "**Summarize data and typically return single value**"
   ]
  },
  {
   "cell_type": "code",
   "execution_count": 112,
   "id": "b6274645-8e42-41ab-9e50-ff252108d978",
   "metadata": {},
   "outputs": [
    {
     "name": "stdout",
     "output_type": "stream",
     "text": [
      "[[ 1  2  3  4  5]\n",
      " [ 6  7  8  9 10]]\n"
     ]
    }
   ],
   "source": [
    "array = np.array([\n",
    "    [1,2,3,4,5],\n",
    "    [6, 7, 8, 9, 10]\n",
    "                 ])\n",
    "print(array)"
   ]
  },
  {
   "cell_type": "code",
   "execution_count": 113,
   "id": "e50b4e29-1a58-473d-b202-98d5730f133f",
   "metadata": {},
   "outputs": [
    {
     "name": "stdout",
     "output_type": "stream",
     "text": [
      "55\n"
     ]
    }
   ],
   "source": [
    "print(np.sum(array))"
   ]
  },
  {
   "cell_type": "code",
   "execution_count": 114,
   "id": "f6f40d3d-8ecf-4cdc-ad21-e8b5577a5fe5",
   "metadata": {},
   "outputs": [
    {
     "name": "stdout",
     "output_type": "stream",
     "text": [
      "5.5\n"
     ]
    }
   ],
   "source": [
    "print(np.mean(array))"
   ]
  },
  {
   "cell_type": "code",
   "execution_count": 115,
   "id": "133bf8df-9b28-4529-9861-0960c3f21109",
   "metadata": {},
   "outputs": [
    {
     "name": "stdout",
     "output_type": "stream",
     "text": [
      "2.8722813232690143\n"
     ]
    }
   ],
   "source": [
    "print(np.std(array))"
   ]
  },
  {
   "cell_type": "code",
   "execution_count": 116,
   "id": "92125274-611e-45ea-816c-8f52f228ccae",
   "metadata": {},
   "outputs": [
    {
     "name": "stdout",
     "output_type": "stream",
     "text": [
      "8.25\n"
     ]
    }
   ],
   "source": [
    "print(np.var(array))"
   ]
  },
  {
   "cell_type": "code",
   "execution_count": 117,
   "id": "370c8bc8-64fd-468d-a483-e8690d9dd40c",
   "metadata": {},
   "outputs": [
    {
     "name": "stdout",
     "output_type": "stream",
     "text": [
      "1\n"
     ]
    }
   ],
   "source": [
    "print(np.min(array))"
   ]
  },
  {
   "cell_type": "code",
   "execution_count": 119,
   "id": "27593f42-b2fd-458d-a9aa-0e60a1212851",
   "metadata": {},
   "outputs": [
    {
     "name": "stdout",
     "output_type": "stream",
     "text": [
      "10\n"
     ]
    }
   ],
   "source": [
    "print(np.max(array))"
   ]
  },
  {
   "cell_type": "code",
   "execution_count": 120,
   "id": "8272dda3-922a-4155-9aeb-e9a7a0cbcf2c",
   "metadata": {},
   "outputs": [
    {
     "name": "stdout",
     "output_type": "stream",
     "text": [
      "0\n"
     ]
    }
   ],
   "source": [
    "# position of minimun value\n",
    "print(np.argmin(array))"
   ]
  },
  {
   "cell_type": "code",
   "execution_count": 121,
   "id": "1a1751a1-3cea-4a28-8368-9e1f54c9ade8",
   "metadata": {},
   "outputs": [
    {
     "name": "stdout",
     "output_type": "stream",
     "text": [
      "9\n"
     ]
    }
   ],
   "source": [
    "print(np.argmax(array))"
   ]
  },
  {
   "cell_type": "code",
   "execution_count": 122,
   "id": "6172e178-0f96-4082-b1ad-3ce8a9106554",
   "metadata": {},
   "outputs": [
    {
     "name": "stdout",
     "output_type": "stream",
     "text": [
      "[ 7  9 11 13 15]\n"
     ]
    }
   ],
   "source": [
    "print(np.sum(array, axis=0)) # summing all the columns"
   ]
  },
  {
   "cell_type": "code",
   "execution_count": 123,
   "id": "c2cff43b-9979-4836-8d9f-03a8780e7008",
   "metadata": {},
   "outputs": [
    {
     "name": "stdout",
     "output_type": "stream",
     "text": [
      "[15 40]\n"
     ]
    }
   ],
   "source": [
    "print(np.sum(array, axis=1)) #summing all the rows"
   ]
  },
  {
   "cell_type": "markdown",
   "id": "d3157273-4977-4196-b99a-2af7a3c1f86a",
   "metadata": {},
   "source": [
    "### Filtering\n",
    "**Refers to the process of selecting elements from an array that match a given a condition**"
   ]
  },
  {
   "cell_type": "code",
   "execution_count": 132,
   "id": "b49d0a04-2062-4ca5-b312-5a4a7a35f7cf",
   "metadata": {},
   "outputs": [
    {
     "name": "stdout",
     "output_type": "stream",
     "text": [
      "[17 16 15]\n",
      "[21 19 20 30 18 55 39 22 18 19 20]\n",
      "[99 66]\n",
      "[20 16 30 18 22 18 20 66]\n",
      "[21 17 19 55 39 15 99 19]\n"
     ]
    }
   ],
   "source": [
    "ages = np.array([\n",
    "    [21,17, 19, 20, 16, 30, 18, 55],\n",
    "    [39, 22, 15, 99, 18, 19, 20, 66]\n",
    "                ])\n",
    "teenagers = ages[ages < 18] #this is boolean indexing\n",
    "print(teenagers)\n",
    "adults = ages[(ages >= 18) & (ages < 65)]\n",
    "print(adults)\n",
    "seniors = ages[ages >= 65]\n",
    "print(seniors)\n",
    "evens = ages[ages % 2 == 0]\n",
    "print(evens)\n",
    "odds = ages[ages%2 != 0]\n",
    "print(odds)"
   ]
  },
  {
   "cell_type": "code",
   "execution_count": 134,
   "id": "5a990078-2131-40f2-ba25-7cbad8a66e2a",
   "metadata": {},
   "outputs": [
    {
     "data": {
      "text/plain": [
       "array([[21,  0, 19, 20,  0, 30, 18, 55],\n",
       "       [39, 22,  0, 99, 18, 19, 20, 66]])"
      ]
     },
     "execution_count": 134,
     "metadata": {},
     "output_type": "execute_result"
    }
   ],
   "source": [
    "# Changing the original shape \n",
    "ages = np.array([\n",
    "    [21,17, 19, 20, 16, 30, 18, 55],\n",
    "    [39, 22, 15, 99, 18, 19, 20, 66]\n",
    "                ])\n",
    "adults = np.where(ages >= 18, ages, 0)\n",
    "adults"
   ]
  },
  {
   "cell_type": "markdown",
   "id": "dc9d1379-c5f8-4bca-87ee-3d4599b38620",
   "metadata": {},
   "source": [
    "### Random Numbers\n",
    "Useful for \n",
    "1. Simulations\n",
    "2. Modeling\n",
    "3. applying random transformation\n",
    "4. testing purposes"
   ]
  },
  {
   "cell_type": "code",
   "execution_count": 140,
   "id": "5e4007d8-d9c8-40bb-ae18-0cec80a5444e",
   "metadata": {},
   "outputs": [
    {
     "name": "stdout",
     "output_type": "stream",
     "text": [
      "6\n"
     ]
    }
   ],
   "source": [
    "rng = np.random.default_rng()\n",
    "print(rng.integers(1,7))"
   ]
  },
  {
   "cell_type": "code",
   "execution_count": 145,
   "id": "8346763c-86f6-4f4a-8ff4-18a1038737b5",
   "metadata": {},
   "outputs": [
    {
     "name": "stdout",
     "output_type": "stream",
     "text": [
      "28\n"
     ]
    }
   ],
   "source": [
    "rng = np.random.default_rng()\n",
    "print(rng.integers(low = 1, high = 100))"
   ]
  },
  {
   "cell_type": "code",
   "execution_count": 146,
   "id": "800aaf14-883a-4fb3-9a60-7689aa15081e",
   "metadata": {},
   "outputs": [
    {
     "name": "stdout",
     "output_type": "stream",
     "text": [
      "[67 60 63 88 89 76 90 11 50 64]\n"
     ]
    }
   ],
   "source": [
    "rng = np.random.default_rng()\n",
    "print(rng.integers(low = 1, high = 100, size = 10))"
   ]
  },
  {
   "cell_type": "code",
   "execution_count": 147,
   "id": "3b4eea73-209f-4314-9a29-1588a06cf5be",
   "metadata": {},
   "outputs": [
    {
     "name": "stdout",
     "output_type": "stream",
     "text": [
      "[[28 30]\n",
      " [26 55]\n",
      " [67  6]]\n"
     ]
    }
   ],
   "source": [
    "rng = np.random.default_rng()\n",
    "print(rng.integers(low = 1, high = 100, size = (3, 2)))"
   ]
  },
  {
   "cell_type": "code",
   "execution_count": 151,
   "id": "ff67f556-e660-4499-8923-64bca7fea733",
   "metadata": {},
   "outputs": [
    {
     "name": "stdout",
     "output_type": "stream",
     "text": [
      "[[47 51]\n",
      " [75 95]\n",
      " [ 4 15]]\n"
     ]
    }
   ],
   "source": [
    "#to create the same the number\n",
    "rng = np.random.default_rng(seed = 1)\n",
    "print(rng.integers(low = 1, high = 100, size = (3, 2)))"
   ]
  },
  {
   "cell_type": "code",
   "execution_count": 155,
   "id": "59c1c89c-91f7-4023-b8f8-6c2d15ea8da3",
   "metadata": {},
   "outputs": [
    {
     "name": "stdout",
     "output_type": "stream",
     "text": [
      "[[0.79419231]\n",
      " [0.1120669 ]\n",
      " [0.22783264]]\n"
     ]
    }
   ],
   "source": [
    "#for floating\n",
    "print(np.random.uniform(low = -1, high = 1, size = (3,1)))"
   ]
  },
  {
   "cell_type": "code",
   "execution_count": 157,
   "id": "19b00ae6-67d8-48a4-aa6a-b45c9f72c535",
   "metadata": {},
   "outputs": [
    {
     "name": "stdout",
     "output_type": "stream",
     "text": [
      "[3 5 4 1 2]\n"
     ]
    }
   ],
   "source": [
    "# to shuffle our array\n",
    "rng = np.random.default_rng()\n",
    "array = np.array([1,2,4,5,3])\n",
    "rng.shuffle(array)\n",
    "print(array)"
   ]
  },
  {
   "cell_type": "code",
   "execution_count": 158,
   "id": "693b8418-639b-4146-96e7-1740e010ed27",
   "metadata": {},
   "outputs": [
    {
     "name": "stdout",
     "output_type": "stream",
     "text": [
      "coconut\n"
     ]
    }
   ],
   "source": [
    "fruits = np.array(\n",
    "    ['Apple', 'orange', 'banana', 'coconut', 'pineapple']\n",
    ")\n",
    "fruits = rng.choice(fruits)\n",
    "print(fruits)"
   ]
  },
  {
   "cell_type": "code",
   "execution_count": 159,
   "id": "fc8dc8b1-4ca6-43a1-9878-44c2b5f0c658",
   "metadata": {},
   "outputs": [
    {
     "name": "stdout",
     "output_type": "stream",
     "text": [
      "['banana' 'coconut' 'Apple']\n"
     ]
    }
   ],
   "source": [
    "fruits = np.array(\n",
    "    ['Apple', 'orange', 'banana', 'coconut', 'pineapple']\n",
    ")\n",
    "fruits = rng.choice(fruits, size = 3)\n",
    "print(fruits)"
   ]
  },
  {
   "cell_type": "code",
   "execution_count": 160,
   "id": "f4788c97-95a4-491b-b899-fc6bab79df1c",
   "metadata": {},
   "outputs": [
    {
     "name": "stdout",
     "output_type": "stream",
     "text": [
      "[['banana' 'orange' 'banana']\n",
      " ['orange' 'coconut' 'Apple']\n",
      " ['pineapple' 'orange' 'Apple']]\n"
     ]
    }
   ],
   "source": [
    "fruits = np.array(\n",
    "    ['Apple', 'orange', 'banana', 'coconut', 'pineapple']\n",
    ")\n",
    "fruits = rng.choice(fruits, size = (3,3))\n",
    "print(fruits)"
   ]
  },
  {
   "cell_type": "code",
   "execution_count": null,
   "id": "d848ab3e-02d6-4e6c-ab0d-f561cdda32e2",
   "metadata": {},
   "outputs": [],
   "source": []
  }
 ],
 "metadata": {
  "kernelspec": {
   "display_name": "Python 3 (ipykernel)",
   "language": "python",
   "name": "python3"
  },
  "language_info": {
   "codemirror_mode": {
    "name": "ipython",
    "version": 3
   },
   "file_extension": ".py",
   "mimetype": "text/x-python",
   "name": "python",
   "nbconvert_exporter": "python",
   "pygments_lexer": "ipython3",
   "version": "3.13.5"
  }
 },
 "nbformat": 4,
 "nbformat_minor": 5
}
